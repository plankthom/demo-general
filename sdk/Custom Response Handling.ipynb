{
 "cells": [
  {
   "cell_type": "code",
   "execution_count": 1,
   "metadata": {},
   "outputs": [],
   "source": [
    "from waylay import WaylayClient, RestResponseError\n",
    "waylay_client = WaylayClient.from_profile('demo')"
   ]
  },
  {
   "cell_type": "markdown",
   "metadata": {},
   "source": [
    "# Waylay Python SDK - Custom Reponse Handling\n",
    "\n",
    "The Waylay Python SDK exposes a number of _REST Services_ (`WaylayConfig.analytics`, `WaylayConfig.byoml`), each containing a number of _REST Resources_ that have _action methods_.\n",
    "\n",
    "In most cases these _action methods_ directly correspond to an underlying REST endpoint of the waylay platform. \n",
    "\n",
    "But they simplify the access to this API by applying defaults and converting results to a representation that we deem relevant for most users.\n",
    "\n",
    "When these choices conflict with your workflow, the following advanced features for the _action methods_ allow you to customise response handling:\n"
   ]
  },
  {
   "cell_type": "markdown",
   "metadata": {},
   "source": [
    "### return the http response information\n",
    "\n",
    "Most _action methods_ support a `raw=True` parameter. The unparsed result and http response information is returned in a _Response_ object with attributes\n",
    " * `body` : the result data (json and csv data is parsed to python data structures)\n",
    " * standard http information such as `url`, `method`, `headers`, `status_code`, `client_response`"
   ]
  },
  {
   "cell_type": "code",
   "execution_count": 2,
   "metadata": {},
   "outputs": [
    {
     "data": {
      "text/plain": [
       "Response(url='https://ts-analytics.waylay.io/config/query/151CF-temperature?api_version=0.19', method='GET', body={'messages': [], 'name': '151CF-temperature', 'query': {'data': [{}, {'metric': 'avgSnr'}, {'resource': '151D8'}, {'metric': 'avgSnr', 'resource': '151D8'}], 'freq': 'P1D', 'metric': 'temperature', 'resource': '151CF', 'aggregation': 'median', 'interpolation': {'method': 'pad'}}, 'meta': {'tags': ['demo'], 'description': 'demo query configuration'}, 'attrs': {'created': '2020-08-29T09:01:34.566657+00:00', 'created_by': 'users/dcf8612b-94fa-4cd4-85fb-e66a1724712a', 'modified': '2020-08-29T09:03:12.225733+00:00', 'modified_by': 'users/dcf8612b-94fa-4cd4-85fb-e66a1724712a'}, '_links': {'self': {'href': 'https://ts-analytics.waylay.io/config/query/151CF-temperature'}}}, headers=Headers({'server': 'nginx/1.17.10', 'date': 'Tue, 01 Sep 2020 13:34:04 GMT', 'content-type': 'application/json', 'content-length': '631', 'server-timing': 'config; dur=13.590574264526367; env=production; method=GET; tenant=fa31ec5f-bf6d-4cdb-930f-2cdd38b53e21; domain=demo.waylay.io', 'access-control-allow-origin': '*', 'vary': 'Cookie', 'set-cookie': 'session=.eJx9VMmSozgQ_Ze6e4LF0DA3YxsMjcBQGIEuDha3kUGYNqvomH8fuasjqoqamAMRSLm8ly9T-eulu5eX-uXvlwu1itTIsIut19Ns8g42W7P2pWxrymbZROGWnUnXoOeZoALMehXPIbGhRRzidY7hlDHmJDBrxA6sGzK82TVMHggnCl4t9S8GwCEoFWntPUFIHIAJQcAjzGN0Q6Ud-CzI7NwAjAhzNBb8EswFdgKnArc9trdWm0CnSmunyqgpQ2p1WeRzKdT7GOZV9kZ4jp8Yh4pjvrNZcYx0uH4WAYKT5AabCew8DtARI0PtYlj15u3O_sMupZIYR1UbR2WfQOWJV2dE5bMDwG7V5ew8osjqksiZE6j2fzgIcRS2-a5h4o1yLFo8egpVoyKHE-cSvnKJQ3PoPfPxmRDSbF76WkNqhLNL9DbdNbesDksTjzgVrZrV0mSCzv3GW8YRlSJB7xmfIjeqIa2BnMLTB7slpQLfLjjgC1S7dMmXYcesNobRoeCdQwynIiP8F24xqdrUqHq09H-_X-RnPTBU-kWn9_tPeRKi4iWXP3eLeL6KI4fPSNix2eKWMSkMi0wMKYI8mxv_q8awYj1-03ehU5fAnMaR36TCWmY6tB9sY3oI6yVWZkw8EsHSl6LIGfKIPYjo_22fesdmPD8wbJLPC14zYjOfQKn-Okd-kQndlxpzQ58TcZnfr9JIYz33q__I89H2qcbcUB9M5yUnLhW66jl_H-uLXlnPoM6x9zU5Qbl2g1gEN29m_k0mgucO2OSCLqWGLtmCzufGdchv-x48vzcN-BizZVOHrGZrtgW2H25XAQQWtoOSQ2T_e-k4W27tQIRteBIcsp_Yq-eceU_j59IBhyA-3ZJovo_KCaCZ3vzkG4F0oLXnXCYfqAGwubXScbbXKt_sH5pyzM0-SIvTzZlE7OV3eZ31m_7gDPzq3OtY29vielppW766-5H86qOiNadmHeyotx402j5-uAYQ1CEcnU22KujWIYmknzWXeOciC-55eSD8lZBjyYW10uDRaQcaYuEsHHfCT3tcx6qk1uUUc7yWJ2I4S4LMK7MXd5KqHa7CJXqtA6nFsmRut0qybY-n-8jJ0WF3Zi_g8rNZZdpjU87RoCtGD67rHDdDoHwXv-8qeUUmhwI3Wz20AXeeIXMK3WibRs6_P3BAZGXabZrz9sjjg3Y-XmPed_due3ykUyd3Mi4RgFttfPnnX-vlJi8.X05NzA.QQoXnAiQmXWhxc1aj2EI-UtfS7g; HttpOnly; Path=/', 'via': '1.1 google', 'alt-svc': 'clear'}), status_code=200, client_response=<Response [200 OK]>)"
      ]
     },
     "execution_count": 2,
     "metadata": {},
     "output_type": "execute_result"
    }
   ],
   "source": [
    "waylay_client.analytics.query.get('151CF-temperature', raw=True)"
   ]
  },
  {
   "cell_type": "markdown",
   "metadata": {},
   "source": [
    "### access http response information from an error\n",
    "When an request is unsuccessfull, the client will raise an exception. \n",
    "\n",
    "These exceptions (from the `waylay.exceptions` module) are either (instances of subclasses of)\n",
    "* a `RestRequestError` that indicates a problem before sending an api call to waylay (e.g. when input argument conversion fails)\n",
    "* a `RestResponseError` that reports a problem from or after the api call to waylay. This exception gives you access to the underlying response (`response` attribute)\n",
    "  * a `RestResponseParseError` error indicates a problem in processing a succesfull response from the waylay platform. All other `RestResponseError` will come from errors reported by the waylay platform itself (http status code above the `200` range).\n",
    "  \n",
    "Other errors can occur (such as standard python `ValueError`,`TypeError` or `AttributeError`) but these will normally indicate a programming error. Networking failures will normally result in a `ClientConnectionError`"
   ]
  },
  {
   "cell_type": "code",
   "execution_count": 3,
   "metadata": {},
   "outputs": [
    {
     "name": "stdout",
     "output_type": "stream",
     "text": [
      "AnalyticsActionError(404: 'operation=not_found_error'; GET 'https://ts-analytics.waylay.io/config/query/where%20are%20you?api_version=0.19')\n",
      "-----------------\n",
      "Response(url='https://ts-analytics.waylay.io/config/query/where%20are%20you?api_version=0.19', method='GET', body={'messages': []}, headers=Headers({'server': 'nginx/1.17.10', 'date': 'Tue, 01 Sep 2020 13:34:04 GMT', 'content-type': 'application/json', 'content-length': '16', 'server-timing': 'config; dur=7.773399353027344; env=production; method=GET; tenant=fa31ec5f-bf6d-4cdb-930f-2cdd38b53e21; domain=demo.waylay.io', 'access-control-allow-origin': '*', 'vary': 'Cookie', 'via': '1.1 google', 'alt-svc': 'clear'}), status_code=404, client_response=<Response [404 Not Found]>)\n"
     ]
    }
   ],
   "source": [
    "# try to get the representation of a `query` entity that does not exist. \n",
    "# this will result in a `404 NOT FOUND` error \n",
    "try:\n",
    "   waylay_client.analytics.query.get('where are you???', raw=True)\n",
    "except RestResponseError as exc:\n",
    "   print(exc)\n",
    "   print('-----------------')\n",
    "   print(exc.response)"
   ]
  },
  {
   "cell_type": "markdown",
   "metadata": {},
   "source": [
    "## customise or replace dataframe conversions\n",
    "In _action methods_ that return pandas DataFrames, you can use the `response_constructor` parameter to replace the dataframe constructor with your own method. \n",
    "\n",
    "Other _action methods_ that apply conversions to raw json data structures normally support this same optionial parameter.\n",
    "\n",
    "A falsy value will let the method return a python representation of the json data payload."
   ]
  },
  {
   "cell_type": "code",
   "execution_count": 4,
   "metadata": {},
   "outputs": [
    {
     "data": {
      "text/plain": [
       "[{'columns': ['timestamp',\n",
       "   {'resource': '151CF', 'metric': 'temperature', 'aggregation': 'median'},\n",
       "   {'resource': '151CF', 'metric': 'avgSnr', 'aggregation': 'median'},\n",
       "   {'resource': '151D8', 'metric': 'temperature', 'aggregation': 'median'},\n",
       "   {'resource': '151D8', 'metric': 'avgSnr', 'aggregation': 'median'}],\n",
       "  'data': [[1578700800000, 17.0, 20.134999999999998, 16.0, 21.215],\n",
       "   [1578787200000, 17.0, 19.950000000000003, 16.0, 21.51],\n",
       "   [1578873600000, 21.0, 19.64, 20.0, 21.15],\n",
       "   [1578960000000, 21.0, 19.43, 20.0, 20.92],\n",
       "   [1579046400000, 21.0, 19.755000000000003, 20.0, 18.93],\n",
       "   [1579132800000, 21.0, 20.619999999999997, 20.5, 20.81],\n",
       "   [1579219200000, 21.0, 20.314999999999998, 20.0, 19.915],\n",
       "   [1579305600000, 17.0, 20.465, 16.0, 21.845],\n",
       "   [1579392000000, 17.0, 21.43, 16.0, 21.795],\n",
       "   [1579478400000, 21.0, 20.65, 20.0, 21.605],\n",
       "   [1579564800000, 20.0, 20.795, 20.0, 20.715],\n",
       "   [1579651200000, 20.5, 20.9, 20.0, 21.560000000000002],\n",
       "   [1579737600000, 21.0, 21.6, 20.0, 20.759999999999998],\n",
       "   [1579824000000, 20.5, 21.314999999999998, 20.0, 21.69],\n",
       "   [1579910400000, 17.0, 22.895, 16.0, 23.11],\n",
       "   [1579996800000, 17.0, 22.12, 16.0, 21.86],\n",
       "   [1580083200000, 21.0, 21.19, 21.0, 21.134999999999998],\n",
       "   [1580169600000, 21.0, 21.29, 20.0, 20.735],\n",
       "   [1580256000000, 21.0, 20.94, 20.0, 20.625],\n",
       "   [1580342400000, 21.0, 20.655, 20.0, 21.380000000000003]],\n",
       "  'data_axis': 'column',\n",
       "  'attributes': {'role': 'input'},\n",
       "  'window_spec': {'from': 1578700800000,\n",
       "   'until': 1580428800000,\n",
       "   'window': 'P20D',\n",
       "   'freq': 'P1D'}}]"
      ]
     },
     "execution_count": 4,
     "metadata": {},
     "output_type": "execute_result"
    }
   ],
   "source": [
    "waylay_client.analytics.query.data(\n",
    "    '151CF-temperature', \n",
    "    params={'window': 'P20D', 'until':'2020-01-31'},\n",
    "    response_constructor=False\n",
    ")"
   ]
  },
  {
   "cell_type": "code",
   "execution_count": 5,
   "metadata": {},
   "outputs": [
    {
     "data": {
      "text/plain": [
       "{1578700800000: [17.0, 20.134999999999998, 16.0, 21.215],\n",
       " 1578787200000: [17.0, 19.950000000000003, 16.0, 21.51],\n",
       " 1578873600000: [21.0, 19.64, 20.0, 21.15],\n",
       " 1578960000000: [21.0, 19.43, 20.0, 20.92],\n",
       " 1579046400000: [21.0, 19.755000000000003, 20.0, 18.93],\n",
       " 1579132800000: [21.0, 20.619999999999997, 20.5, 20.81],\n",
       " 1579219200000: [21.0, 20.314999999999998, 20.0, 19.915],\n",
       " 1579305600000: [17.0, 20.465, 16.0, 21.845],\n",
       " 1579392000000: [17.0, 21.43, 16.0, 21.795],\n",
       " 1579478400000: [21.0, 20.65, 20.0, 21.605],\n",
       " 1579564800000: [20.0, 20.795, 20.0, 20.715],\n",
       " 1579651200000: [20.5, 20.9, 20.0, 21.560000000000002],\n",
       " 1579737600000: [21.0, 21.6, 20.0, 20.759999999999998],\n",
       " 1579824000000: [20.5, 21.314999999999998, 20.0, 21.69],\n",
       " 1579910400000: [17.0, 22.895, 16.0, 23.11],\n",
       " 1579996800000: [17.0, 22.12, 16.0, 21.86],\n",
       " 1580083200000: [21.0, 21.19, 21.0, 21.134999999999998],\n",
       " 1580169600000: [21.0, 21.29, 20.0, 20.735],\n",
       " 1580256000000: [21.0, 20.94, 20.0, 20.625],\n",
       " 1580342400000: [21.0, 20.655, 20.0, 21.380000000000003]}"
      ]
     },
     "execution_count": 5,
     "metadata": {},
     "output_type": "execute_result"
    }
   ],
   "source": [
    "# return a map with timestamps as keys, the observation values as value. \n",
    "waylay_client.analytics.query.data(\n",
    "    '151CF-temperature', \n",
    "    params={'window': 'P20D', 'until':'2020-01-31'},\n",
    "    response_constructor=lambda d: { row[0] : row[1:] for row in d[0]['data'] }\n",
    ")"
   ]
  },
  {
   "cell_type": "code",
   "execution_count": 6,
   "metadata": {},
   "outputs": [
    {
     "data": {
      "text/plain": [
       "array([[1.5787008e+12, 1.5787872e+12, 1.5788736e+12, 1.5789600e+12,\n",
       "        1.5790464e+12, 1.5791328e+12, 1.5792192e+12, 1.5793056e+12,\n",
       "        1.5793920e+12, 1.5794784e+12, 1.5795648e+12, 1.5796512e+12,\n",
       "        1.5797376e+12, 1.5798240e+12, 1.5799104e+12, 1.5799968e+12,\n",
       "        1.5800832e+12, 1.5801696e+12, 1.5802560e+12, 1.5803424e+12],\n",
       "       [1.7000000e+01, 1.7000000e+01, 2.1000000e+01, 2.1000000e+01,\n",
       "        2.1000000e+01, 2.1000000e+01, 2.1000000e+01, 1.7000000e+01,\n",
       "        1.7000000e+01, 2.1000000e+01, 2.0000000e+01, 2.0500000e+01,\n",
       "        2.1000000e+01, 2.0500000e+01, 1.7000000e+01, 1.7000000e+01,\n",
       "        2.1000000e+01, 2.1000000e+01, 2.1000000e+01, 2.1000000e+01],\n",
       "       [2.0135000e+01, 1.9950000e+01, 1.9640000e+01, 1.9430000e+01,\n",
       "        1.9755000e+01, 2.0620000e+01, 2.0315000e+01, 2.0465000e+01,\n",
       "        2.1430000e+01, 2.0650000e+01, 2.0795000e+01, 2.0900000e+01,\n",
       "        2.1600000e+01, 2.1315000e+01, 2.2895000e+01, 2.2120000e+01,\n",
       "        2.1190000e+01, 2.1290000e+01, 2.0940000e+01, 2.0655000e+01],\n",
       "       [1.6000000e+01, 1.6000000e+01, 2.0000000e+01, 2.0000000e+01,\n",
       "        2.0000000e+01, 2.0500000e+01, 2.0000000e+01, 1.6000000e+01,\n",
       "        1.6000000e+01, 2.0000000e+01, 2.0000000e+01, 2.0000000e+01,\n",
       "        2.0000000e+01, 2.0000000e+01, 1.6000000e+01, 1.6000000e+01,\n",
       "        2.1000000e+01, 2.0000000e+01, 2.0000000e+01, 2.0000000e+01],\n",
       "       [2.1215000e+01, 2.1510000e+01, 2.1150000e+01, 2.0920000e+01,\n",
       "        1.8930000e+01, 2.0810000e+01, 1.9915000e+01, 2.1845000e+01,\n",
       "        2.1795000e+01, 2.1605000e+01, 2.0715000e+01, 2.1560000e+01,\n",
       "        2.0760000e+01, 2.1690000e+01, 2.3110000e+01, 2.1860000e+01,\n",
       "        2.1135000e+01, 2.0735000e+01, 2.0625000e+01, 2.1380000e+01]])"
      ]
     },
     "execution_count": 6,
     "metadata": {},
     "output_type": "execute_result"
    }
   ],
   "source": [
    "import numpy as np\n",
    "# return timeseries data as a numpy array, transposed as an array per series \n",
    "waylay_client.analytics.query.data(\n",
    "    '151CF-temperature', \n",
    "    params={'window': 'P20D', 'until':'2020-01-31'},\n",
    "    response_constructor=lambda d: np.transpose(d[0]['data'])\n",
    ")"
   ]
  },
  {
   "cell_type": "code",
   "execution_count": null,
   "metadata": {},
   "outputs": [],
   "source": []
  }
 ],
 "metadata": {
  "kernelspec": {
   "display_name": "Python 3",
   "language": "python",
   "name": "python3"
  },
  "language_info": {
   "codemirror_mode": {
    "name": "ipython",
    "version": 3
   },
   "file_extension": ".py",
   "mimetype": "text/x-python",
   "name": "python",
   "nbconvert_exporter": "python",
   "pygments_lexer": "ipython3",
   "version": "3.8.5"
  }
 },
 "nbformat": 4,
 "nbformat_minor": 4
}
