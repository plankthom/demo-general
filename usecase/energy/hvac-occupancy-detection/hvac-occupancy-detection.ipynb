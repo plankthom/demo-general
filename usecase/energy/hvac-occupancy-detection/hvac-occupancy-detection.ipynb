{
 "cells": [
  {
   "cell_type": "markdown",
   "metadata": {},
   "source": [
    "> Under Construction: this notebook uses the [waylay-py-internal](https://github.com/waylayio/waylay-py-internal) extension for apis that are not yet public. Requires a current versions both waylay-py and waylay-py-internal:\n",
    "\n",
    "```\n",
    "pip install https://github.com/waylayio/waylay-py\n",
    "pip install https://github.com/waylayio/waylay-py-internal\n",
    "```"
   ]
  },
  {
   "cell_type": "markdown",
   "metadata": {},
   "source": [
    "# HVAC occupancy detection\n",
    "\n",
    "This notebook illustrates how to interact with the Waylay Platform API's for an HVAC data science use case. \n",
    "\n",
    "## References\n",
    "* The [kaggle](https://www.kaggle.com) notebook [HVAC Occupancy Detection with ML and DL Methods](https://www.kaggle.com/turksoyomer/hvac-occupancy-detection-with-ml-and-dl-methods/notebook), and related [dataset](https://archive.ics.uci.edu/ml/datasets/Occupancy+Detection+), on which this example is based.\n",
    "* The [Waylay api documentation](https://docs.waylay.io/api/)\n",
    "* The [Waylay python SDK](https://docs.waylay.io/api/sdk/python/)\n",
    "* [Setup instructions](https://github.com/waylayio/demo-general/tree/master/python-sdk) for a python notebook using the Waylay Python SDK.\n"
   ]
  },
  {
   "cell_type": "markdown",
   "metadata": {},
   "source": [
    "## Parameters\n",
    "Please review and adapt the following parameters for this demo"
   ]
  },
  {
   "cell_type": "code",
   "execution_count": null,
   "metadata": {},
   "outputs": [],
   "source": [
    "class HVACDemo:\n",
    "    \"\"\"parametrization for this demo\"\"\"\n",
    "    \n",
    "    # original location of the data set\n",
    "    data_url = 'https://archive.ics.uci.edu/ml/machine-learning-databases/00357/occupancy_data.zip'\n",
    "    \n",
    "    # the profile name under which waylay credentials are stored\n",
    "    waylay_client_profile='staging'  # 'rules'\n",
    "    \n",
    "    # the id of the resource under which this demo is run\n",
    "    resource_id = 'demo_energy_hvac_occupancy'\n",
    "    \n",
    "    \n",
    "    \n",
    "    "
   ]
  },
  {
   "cell_type": "markdown",
   "metadata": {},
   "source": [
    "## Setup"
   ]
  },
  {
   "cell_type": "code",
   "execution_count": null,
   "metadata": {},
   "outputs": [],
   "source": [
    "import pandas as pd\n",
    "import waylay\n",
    "from datetime import datetime"
   ]
  },
  {
   "cell_type": "code",
   "execution_count": null,
   "metadata": {},
   "outputs": [],
   "source": [
    "# NEEDED FOR NOW\n",
    "\n",
    "import waylay_internal\n",
    "dict(\n",
    "    waylay=waylay.__version__,\n",
    "    waylay_internal=waylay_internal.__version__,\n",
    ")"
   ]
  },
  {
   "cell_type": "code",
   "execution_count": null,
   "metadata": {},
   "outputs": [],
   "source": [
    "# if the profile does not exist, this will interactively request for credentials, and let you optionally store it.\n",
    "waylay_client = waylay.WaylayClient.from_profile(HVACDemo.waylay_client_profile)"
   ]
  },
  {
   "cell_type": "markdown",
   "metadata": {},
   "source": [
    "## Data retrieval"
   ]
  },
  {
   "cell_type": "markdown",
   "metadata": {},
   "source": [
    "### download the data set\n",
    "We download the dataset (a zipped set of csv files), inspect its content, and read out the csv files into a pandas data structure."
   ]
  },
  {
   "cell_type": "code",
   "execution_count": null,
   "metadata": {},
   "outputs": [],
   "source": [
    "import os\n",
    "import os.path\n",
    "import zipfile\n",
    "from urllib.request import urlretrieve\n",
    "\n",
    "os.makedirs('input', exist_ok=True)\n",
    "os.makedirs('output', exist_ok=True)\n",
    "\n",
    "# download the kaggle data set\n",
    "if not os.path.isfile('input/occupancy.zip'):\n",
    "    urlretrieve(HVACDemo.data_url, 'input/occupancy.zip')\n",
    "    \n",
    "with zipfile.ZipFile('input/occupancy.zip') as occ_zip:\n",
    "    for file_name in occ_zip.namelist():\n",
    "        print(file_name)"
   ]
  },
  {
   "cell_type": "code",
   "execution_count": null,
   "metadata": {},
   "outputs": [],
   "source": [
    "with zipfile.ZipFile('input/occupancy.zip') as occ_zip:\n",
    "    datatest = pd.read_csv(occ_zip.open('datatest.txt'))\n",
    "    datatest2 = pd.read_csv(occ_zip.open('datatest2.txt'))\n",
    "    datatraining = pd.read_csv(occ_zip.open('datatraining.txt'))\n",
    "    \n"
   ]
  },
  {
   "cell_type": "code",
   "execution_count": null,
   "metadata": {},
   "outputs": [],
   "source": [
    "datatraining.describe()"
   ]
  },
  {
   "cell_type": "code",
   "execution_count": null,
   "metadata": {},
   "outputs": [],
   "source": [
    "datatraining.head()"
   ]
  },
  {
   "cell_type": "markdown",
   "metadata": {},
   "source": [
    "### convert to etl format\n",
    "To upload bulk data into waylay, the data should be converted into an optimized format.\n",
    "The `timeseries.tool.prepare_etl_import` helps you to create these _import files_.\n",
    "\n",
    "In this case, we provide the tool with additional information:\n",
    " * `timestamp_timezone='UTC'` as timestamps do not contain a timezone component\n",
    " * `resource=HVACDemo.resource_id` as the resource id is not provided in the input\n",
    " * `timestamp_key='date'`, as timestamps are in the `date` column. In this case this is not required as `date` will be recognised as a timestamp column if not specified otherwise.\n",
    " * `directory='input'` because we want the resulting import file to reside in that directory\n",
    "\n",
    "The first two instruction are required for this dataset. Try to omit them to see what errors are raised."
   ]
  },
  {
   "cell_type": "code",
   "execution_count": null,
   "metadata": {},
   "outputs": [],
   "source": [
    "etl_import = waylay_client.timeseries.etl_tool.prepare_import(\n",
    "    datatraining, \n",
    "    timestamp_timezone='UTC',\n",
    "    resource=HVACDemo.resource_id,\n",
    "    timestamp_key='date',\n",
    "    directory='output'\n",
    ")\n",
    "etl_import"
   ]
  },
  {
   "cell_type": "markdown",
   "metadata": {},
   "source": [
    "Because it is easer to work with recent data, we instruct the tool to shift timestamps\n",
    "(with `timestamp_offset`, `timestamp_first` or `timestamp_last`)"
   ]
  },
  {
   "cell_type": "code",
   "execution_count": null,
   "metadata": {},
   "outputs": [],
   "source": [
    "etl_import = waylay_client.timeseries.etl_tool.prepare_import(\n",
    "    datatraining, \n",
    "    timestamp_timezone='UTC',\n",
    "    resource=HVACDemo.resource_id,\n",
    "    timestamp_key='date',\n",
    "    timestamp_last=datetime.utcnow(), # shift all timestamps so that last one is now\n",
    "    directory='output'\n",
    ")\n",
    "etl_import"
   ]
  },
  {
   "cell_type": "markdown",
   "metadata": {},
   "source": [
    "The resulting file is a `gzip` compressed csv file in fully normalized _waylay timeseries ETL_ format"
   ]
  },
  {
   "cell_type": "code",
   "execution_count": null,
   "metadata": {},
   "outputs": [],
   "source": [
    "import gzip\n",
    "with gzip.open(etl_import.path, 'rt') as csv_file:\n",
    "     etl_series_df = pd.read_csv(csv_file)\n",
    "\n",
    "etl_series_df.head()"
   ]
  },
  {
   "cell_type": "markdown",
   "metadata": {},
   "source": [
    "### create or update waylay resource\n",
    "Timeseries in waylay are best associated with a Waylay resource. This documents the entity that is represented by the timeseries data."
   ]
  },
  {
   "cell_type": "code",
   "execution_count": null,
   "metadata": {},
   "outputs": [],
   "source": [
    "etl_import.spec.metrics\n"
   ]
  },
  {
   "cell_type": "code",
   "execution_count": null,
   "metadata": {},
   "outputs": [],
   "source": [
    "\n",
    "hvac_resource_repr = {\n",
    "        \"id\": HVACDemo.resource_id,\n",
    "        \"name\": HVACDemo.resource_id,\n",
    "        \"description\": \"\"\"\n",
    "Experimental data used for binary classification (room occupancy) \n",
    "from Temperature,Humidity,Light and CO2. \n",
    "Ground-truth occupancy was obtained from time stamped pictures that were taken every minute.\n",
    "See https://archive.ics.uci.edu/ml/datasets/Occupancy+Detection+#\n",
    "        \"\"\",\n",
    "        \"metrics\" : [ { \"name\": name } for name in etl_import.spec.metrics ]\n",
    "    }"
   ]
  },
  {
   "cell_type": "code",
   "execution_count": null,
   "metadata": {},
   "outputs": [],
   "source": [
    "# use `update` (PATCH method) to upsert the resource\n",
    "hvac_resource_resp = waylay_client.api.resource.update(HVACDemo.resource_id, body=hvac_resource_repr)\n",
    "\n",
    "# validate it is stored correctly\n",
    "waylay_client.api.resource.get(HVACDemo.resource_id)"
   ]
  },
  {
   "cell_type": "code",
   "execution_count": null,
   "metadata": {},
   "outputs": [],
   "source": [
    "# maybe add some more metadata\n",
    "metrics_metadata = [\n",
    "    { \"name\": \"Temperature\", \"valueType\": \"float\", \"metricType\": \"gauge\", \"unit\": \"°C\" }, \n",
    "    { \"name\": \"Humidity\", \"valueType\": \"float\", \"metricType\": \"gauge\", \"unit\": \"%\", \"description\": \"Relative Humidity\" }, \n",
    "    { \"name\": \"Light\", \"valueType\": \"float\", \"metricType\": \"gauge\", \"unit\": \"Lux\" }, \n",
    "    { \"name\": \"CO2\", \"valueType\": \"float\", \"metricType\": \"gauge\", \"unit\": \"ppm\" }, \n",
    "    { \"name\": \"HumidityRatio\", \"valueType\": \"float\", \"metricType\": \"gauge\", \"unit\": \"kgwater-vapor/kg-air\", \"description\": \"Derived quantity from temperature and relative humidity.\"},\n",
    "    { \"name\": \"Occupancy\", \"valueType\": \"integer\", \"metricType\": \"gauge\", \"unit\": \"boolean\", \"description\": \"0 for not occupied, 1 for occupied status\" } \n",
    "]\n",
    "hvac_resource_resp = waylay_client.api.resource.update(HVACDemo.resource_id, body=dict(metrics=metrics_metadata))\n",
    "waylay_client.api.resource.get(HVACDemo.resource_id)\n",
    "      "
   ]
  },
  {
   "cell_type": "markdown",
   "metadata": {},
   "source": [
    "### upload the etl-import data\n"
   ]
  },
  {
   "cell_type": "code",
   "execution_count": null,
   "metadata": {},
   "outputs": [],
   "source": [
    "upload_bucket, upload_prefix = waylay_client.timeseries.etl_tool.initiate_import(etl_import)"
   ]
  },
  {
   "cell_type": "markdown",
   "metadata": {},
   "source": [
    "The etl file is uploaded to the `etl-import/upload` storage folder.\n",
    "Any upload in this folder will initiate an etl process.\n",
    "\n",
    "This can be monitored as follows:\n",
    "* the file is moved from `etl-import/upload` to an timestamped folder in  `etl-import/busy`\n",
    "* the etl process is kicked of\n",
    "* on completion, the file (and a result statement) is copied to a folder in `etl-import/done`\n"
   ]
  },
  {
   "cell_type": "code",
   "execution_count": null,
   "metadata": {},
   "outputs": [],
   "source": [
    "# listing of /bucket/etl-import/upload/ \n",
    "#  ( should be empty when etl process has started)\n",
    "waylay_client.storage.object.list(upload_bucket, 'upload/')"
   ]
  },
  {
   "cell_type": "code",
   "execution_count": null,
   "metadata": {},
   "outputs": [],
   "source": [
    "# listing of /bucket/etl-import/busy/ \n",
    "#  ( should contain a folder with the file, as long as etl process is busy )\n",
    "list(\n",
    "    obj['name']\n",
    "    for obj in waylay_client.storage.object.list(upload_bucket, 'busy/', params=dict(recursive=True))\n",
    "    if etl_import.path.name in obj['name']\n",
    ")"
   ]
  },
  {
   "cell_type": "code",
   "execution_count": null,
   "metadata": {},
   "outputs": [],
   "source": [
    "# listing of /bucket/etl-import/done/ \n",
    "#  ( should contain a folder with the file, when the etl process has concluded )\n",
    "done_list= list(\n",
    "    obj['name']\n",
    "    for obj in waylay_client.storage.object.list(upload_bucket, 'done/', params=dict(recursive=True))\n",
    "    if etl_import.path.name in obj['name']\n",
    ")\n",
    "done_folder = '/'.join(done_list[0].split('/')[:-1]) + '/' # name of parent folder\n",
    "done_listing = list(obj['name'] for obj in waylay_client.storage.object.list(upload_bucket, done_folder))\n",
    "done_listing"
   ]
  },
  {
   "cell_type": "code",
   "execution_count": null,
   "metadata": {},
   "outputs": [],
   "source": [
    "# inspect the result file\n",
    "waylay_client.storage.content.get(upload_bucket, done_listing[1]).json()"
   ]
  },
  {
   "cell_type": "code",
   "execution_count": null,
   "metadata": {},
   "outputs": [],
   "source": [
    "query = dict(\n",
    "    resource=HVACDemo.resource_id,\n",
    "    data=[\n",
    "        dict(metric=metric) for metric in etl_import.spec.metrics\n",
    "    ]\n",
    ")\n",
    "# test query\n",
    "waylay_client.analytics.query.execute(body=query)"
   ]
  },
  {
   "cell_type": "code",
   "execution_count": null,
   "metadata": {},
   "outputs": [],
   "source": [
    "# save query\n",
    "query_name = f'example_{HVACDemo.resource_id}'\n",
    "waylay_client.analytics.query.create(body=dict(name=query_name, query=query))\n"
   ]
  },
  {
   "cell_type": "code",
   "execution_count": null,
   "metadata": {},
   "outputs": [],
   "source": [
    "waylay_client.analytics.query.data(query_name)"
   ]
  },
  {
   "cell_type": "code",
   "execution_count": null,
   "metadata": {},
   "outputs": [],
   "source": []
  },
  {
   "cell_type": "code",
   "execution_count": null,
   "metadata": {},
   "outputs": [],
   "source": [
    "from waylay import RestResponseError\n",
    "def cleanup(filter='demo_energy_hvac_occupancy', query_name_prefix='example_'):\n",
    "    resource_ids = [ r['id'] for r in waylay_client.api.resource.search(params=dict(filter=filter)) ]\n",
    "    if not resource_ids:\n",
    "        print('No resources to clean.')\n",
    "        return\n",
    "    print('removing data and resources with ids:' + ''.join(f\"\\n  - {resource_id}\" for resource_id in resource_ids))\n",
    "    answer = input('OK? [Y/N] ')\n",
    "        \n",
    "    if not answer or answer[0].upper() != 'Y':\n",
    "        print('Cleanup cancelled.')\n",
    "        return\n",
    "    \n",
    "    # delete data\n",
    "    for resource_id in resource_ids:\n",
    "        try:\n",
    "            print(waylay_client.data.series.remove(resource_id)  or f'removed series   {resource_id}')\n",
    "            print(waylay_client.api.resource.remove(resource_id) or f'removed resource {resource_id}')\n",
    "            query_name = f'{query_name_prefix}{resource_id}'\n",
    "            print(waylay_client.analytics.query.remove(query_name) or f'removed query {query_name}')\n",
    "        except RestResponseError as exc:\n",
    "            print(f'stopped processing resource {resource_id} because of:')\n",
    "            print(exc)"
   ]
  },
  {
   "cell_type": "code",
   "execution_count": null,
   "metadata": {},
   "outputs": [],
   "source": [
    "cleanup()"
   ]
  },
  {
   "cell_type": "code",
   "execution_count": null,
   "metadata": {},
   "outputs": [],
   "source": []
  }
 ],
 "metadata": {
  "kernelspec": {
   "display_name": "Python 3",
   "language": "python",
   "name": "python3"
  },
  "language_info": {
   "codemirror_mode": {
    "name": "ipython",
    "version": 3
   },
   "file_extension": ".py",
   "mimetype": "text/x-python",
   "name": "python",
   "nbconvert_exporter": "python",
   "pygments_lexer": "ipython3",
   "version": "3.8.5"
  }
 },
 "nbformat": 4,
 "nbformat_minor": 4
}
