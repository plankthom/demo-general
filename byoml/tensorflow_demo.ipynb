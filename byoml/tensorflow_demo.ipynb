{
 "cells": [
  {
   "cell_type": "code",
   "execution_count": null,
   "metadata": {},
   "outputs": [],
   "source": [
    "import tensorflow as tf\n",
    "import json\n",
    "import numpy as np"
   ]
  },
  {
   "cell_type": "markdown",
   "metadata": {},
   "source": [
    "## Load training, validation and test sets"
   ]
  },
  {
   "cell_type": "code",
   "execution_count": null,
   "metadata": {},
   "outputs": [],
   "source": [
    "with open('train_set.json') as f:\n",
    "    train_data = np.array(json.load(f)['target'])\n",
    "with open('test_set.json') as f:\n",
    "    test_data = np.array(json.load(f)['target'])\n",
    "with open('validate_set.json') as f:\n",
    "    validation_data = np.array(json.load(f)['target'])"
   ]
  },
  {
   "cell_type": "code",
   "execution_count": null,
   "metadata": {},
   "outputs": [],
   "source": [
    "history_length = 720 # one month of hourly data = 30 * 24\n",
    "output_length = 168 # one week of hourly data = 7 * 24\n",
    "step = 24 # one day"
   ]
  },
  {
   "cell_type": "code",
   "execution_count": null,
   "metadata": {},
   "outputs": [],
   "source": [
    "def reshape_data(data, input_length, output_length):\n",
    "    features = []\n",
    "    output = []\n",
    "    for i in range(0, len(data) - input_length - output_length):\n",
    "        features.append(data[i:i+input_length])\n",
    "        output.append(data[i+input_length:i+input_length+output_length])\n",
    "    return np.array(features), np.array(output)"
   ]
  },
  {
   "cell_type": "code",
   "execution_count": null,
   "metadata": {},
   "outputs": [],
   "source": [
    "x, y = reshape_data(train_data, history_length, output_length)\n",
    "x_val, y_val = reshape_data(validation_data, history_length, output_length)"
   ]
  },
  {
   "cell_type": "markdown",
   "metadata": {},
   "source": [
    "## Create the model"
   ]
  },
  {
   "cell_type": "code",
   "execution_count": null,
   "metadata": {},
   "outputs": [],
   "source": [
    "model = tf.keras.models.Sequential()\n",
    "model.add(tf.keras.layers.Input(shape=(x.shape[1],), name=\"previous_month\"))\n",
    "model.add(tf.keras.layers.Reshape((x.shape[1],1)))\n",
    "model.add(tf.keras.layers.LSTM(32))\n",
    "model.add(tf.keras.layers.Dense(168))\n",
    "\n",
    "model.compile(optimizer='adam', loss='mae')"
   ]
  },
  {
   "cell_type": "code",
   "execution_count": null,
   "metadata": {},
   "outputs": [],
   "source": [
    "model.summary()"
   ]
  },
  {
   "cell_type": "code",
   "execution_count": null,
   "metadata": {},
   "outputs": [],
   "source": [
    "callback = tf.keras.callbacks.EarlyStopping(monitor='val_loss', mode='min', verbose=1, patience=20)\n",
    "history = model.fit(x, y,\n",
    "                    batch_size=500,\n",
    "                    callbacks=[callback],\n",
    "                    epochs=2000,\n",
    "                    validation_data=(x_val, y_val))"
   ]
  },
  {
   "cell_type": "markdown",
   "metadata": {},
   "source": [
    "# Save in SavedModel format"
   ]
  },
  {
   "cell_type": "code",
   "execution_count": null,
   "metadata": {},
   "outputs": [],
   "source": [
    "save_dir = 'saved_model/model'\n",
    "model.save(save_dir)"
   ]
  },
  {
   "cell_type": "markdown",
   "metadata": {},
   "source": [
    "# Upload to Waylay platform"
   ]
  },
  {
   "cell_type": "code",
   "execution_count": null,
   "metadata": {},
   "outputs": [],
   "source": [
    "import requests\n",
    "from requests.auth import HTTPBasicAuth\n",
    "from zipfile import ZipFile\n",
    "import os\n",
    "import shutil\n",
    "from io import BytesIO"
   ]
  },
  {
   "cell_type": "code",
   "execution_count": null,
   "metadata": {},
   "outputs": [],
   "source": [
    "def upload_model(model_name, directory, upload_url, api_key, api_secret):\n",
    "    # create zip\n",
    "    shutil.make_archive('model', 'zip', directory)\n",
    "    with open('model.zip', 'rb') as f:\n",
    "        upload_file = BytesIO(f.read())\n",
    "        \n",
    "    # upload to waylay\n",
    "    resp = requests.post(upload_url,\n",
    "                         files={\"file\": ('model.zip', upload_file)},\n",
    "                         data={\"name\": model_name, \"description\": description, \"framework\": \"tensorflow\" },\n",
    "                         auth=HTTPBasicAuth(api_key, api_secret))\n",
    "\n",
    "    if resp.status_code == 200:\n",
    "        return 'Succes'\n",
    "    else:\n",
    "        return 'Failed'"
   ]
  },
  {
   "cell_type": "code",
   "execution_count": null,
   "metadata": {},
   "outputs": [],
   "source": [
    "# https://docs.waylay.io/api/rest/#authentication\n",
    "api_key = 'Replace with your apiKey'\n",
    "api_secret = 'Replace with your apiSecret'\n",
    "byoml_url = 'Replace with the correct url'\n",
    "print(upload_model('replace with a model_name', save_dir, byoml_url, api_key, api_secret))"
   ]
  },
  {
   "cell_type": "code",
   "execution_count": null,
   "metadata": {},
   "outputs": [],
   "source": []
  }
 ],
 "metadata": {
  "kernelspec": {
   "display_name": "Python 3",
   "language": "python",
   "name": "python3"
  },
  "language_info": {
   "codemirror_mode": {
    "name": "ipython",
    "version": 3
   },
   "file_extension": ".py",
   "mimetype": "text/x-python",
   "name": "python",
   "nbconvert_exporter": "python",
   "pygments_lexer": "ipython3",
   "version": "3.6.9"
  }
 },
 "nbformat": 4,
 "nbformat_minor": 4
}
