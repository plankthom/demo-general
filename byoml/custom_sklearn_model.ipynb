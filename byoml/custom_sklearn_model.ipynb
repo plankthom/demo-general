{
 "cells": [
  {
   "cell_type": "code",
   "execution_count": 1,
   "metadata": {},
   "outputs": [],
   "source": [
    "# save model using the dill library instead of the joblib library, \n",
    "# make sure this import is on top as it will load the imported libraries as well\n",
    "import dill"
   ]
  },
  {
   "cell_type": "code",
   "execution_count": 2,
   "metadata": {},
   "outputs": [
    {
     "data": {
      "text/plain": [
       "array([ 1,  1, -1])"
      ]
     },
     "execution_count": 2,
     "metadata": {},
     "output_type": "execute_result"
    }
   ],
   "source": [
    "from sklearn.ensemble import IsolationForest\n",
    "X = [[-1.1], [0.3], [0.5], [100]]\n",
    "clf = IsolationForest(random_state=0).fit(X)\n",
    "X_pred = [[0.1], [0], [90]]\n",
    "clf.predict(X_pred)"
   ]
  },
  {
   "cell_type": "code",
   "execution_count": 3,
   "metadata": {},
   "outputs": [
    {
     "data": {
      "text/plain": [
       "array([ 0.16355707,  0.14809923, -0.12865009])"
      ]
     },
     "execution_count": 3,
     "metadata": {},
     "output_type": "execute_result"
    }
   ],
   "source": [
    "clf.decision_function(X_pred)"
   ]
  },
  {
   "cell_type": "code",
   "execution_count": 4,
   "metadata": {},
   "outputs": [],
   "source": [
    "class DecisionFunctionPredictor:\n",
    "\n",
    "    def __init__(self, model):\n",
    "        self.model = model\n",
    "\n",
    "    def fit(self, X):\n",
    "        self.model.fit(X)\n",
    "        return self\n",
    "\n",
    "    def predict(self, X):\n",
    "        return self.model.predict(X)\n",
    "    \n",
    "    def predict_proba(self, X):\n",
    "        return self.model.decision_function(X)"
   ]
  },
  {
   "cell_type": "code",
   "execution_count": 5,
   "metadata": {},
   "outputs": [
    {
     "data": {
      "text/plain": [
       "array([ 1,  1,  1, -1])"
      ]
     },
     "execution_count": 5,
     "metadata": {},
     "output_type": "execute_result"
    }
   ],
   "source": [
    "clf = DecisionFunctionPredictor(IsolationForest(random_state=0))\n",
    "clf.fit(X)\n",
    "clf.predict(X)"
   ]
  },
  {
   "cell_type": "code",
   "execution_count": 6,
   "metadata": {},
   "outputs": [
    {
     "data": {
      "text/plain": [
       "array([ 0.16355707,  0.14809923, -0.12865009])"
      ]
     },
     "execution_count": 6,
     "metadata": {},
     "output_type": "execute_result"
    }
   ],
   "source": [
    "clf.predict_proba(X_pred)"
   ]
  },
  {
   "cell_type": "code",
   "execution_count": 7,
   "metadata": {},
   "outputs": [],
   "source": [
    "save_path = 'model.joblib'\n",
    "with open(save_path, 'wb') as model_file:\n",
    "    dill.settings['recurse']=True\n",
    "    dill.dump(clf, model_file)"
   ]
  },
  {
   "cell_type": "code",
   "execution_count": 8,
   "metadata": {},
   "outputs": [],
   "source": [
    "from zipfile import ZipFile\n",
    "from io import BytesIO\n",
    "import requests\n",
    "from requests.auth import HTTPBasicAuth\n",
    "def upload_model(path, model_name, description, upload_url, api_key, api_secret):\n",
    "    \n",
    "    zipfile_name = 'model.zip'\n",
    "    # Create a zip\n",
    "    with ZipFile('model.zip', 'w') as zipfile:\n",
    "       # Add multiple files to the zip\n",
    "       zipfile.write(path, 'model.joblib')\n",
    "        \n",
    "    with open('model.zip', 'rb') as f:\n",
    "        upload_file = BytesIO(f.read())\n",
    "        \n",
    "    # upload to waylay\n",
    "    resp = requests.post(upload_url,\n",
    "                         files={\"file\": ('model.zip', upload_file)},\n",
    "                         data={\"name\": model_name, \"framework\": \"sklearn\", \"description\": description},\n",
    "                         auth=HTTPBasicAuth(api_key, api_secret))\n",
    "\n",
    "    return resp.json()"
   ]
  },
  {
   "cell_type": "code",
   "execution_count": 9,
   "metadata": {},
   "outputs": [
    {
     "name": "stdout",
     "output_type": "stream",
     "text": [
      "{'message': 'Model successfully uploaded'}\n"
     ]
    }
   ],
   "source": [
    "api_key = 'your-api-key'\n",
    "api_secret = 'your-api-secret'\n",
    "byom_url = 'https://byoml.waylay.io/models'\n",
    "model_name = 'decision-function'\n",
    "description = 'Custom sklearn model example'\n",
    "print(\n",
    "    upload_model(\n",
    "        save_path,\n",
    "        model_name,\n",
    "        description,\n",
    "        byom_url,  \n",
    "        api_key, \n",
    "        api_secret\n",
    "    )\n",
    ")"
   ]
  },
  {
   "cell_type": "code",
   "execution_count": 10,
   "metadata": {},
   "outputs": [
    {
     "data": {
      "text/plain": [
       "{'predictions': [1, 1, -1]}"
      ]
     },
     "execution_count": 10,
     "metadata": {},
     "output_type": "execute_result"
    }
   ],
   "source": [
    "response = requests.post(byom_url + '/' + model_name + '/predict',\n",
    "                         json = {\"instances\": X_pred},\n",
    "                         auth=HTTPBasicAuth(api_key, api_secret)).json()\n",
    "response"
   ]
  },
  {
   "cell_type": "code",
   "execution_count": 11,
   "metadata": {},
   "outputs": [
    {
     "data": {
      "text/plain": [
       "{'predictions': [0.16355706941457837,\n",
       "  0.14809923156656285,\n",
       "  -0.12865009356674928]}"
      ]
     },
     "execution_count": 11,
     "metadata": {},
     "output_type": "execute_result"
    }
   ],
   "source": [
    "response = requests.post(byom_url + '/' + model_name + '/predict',\n",
    "                         json = {\"instances\": X_pred, \"probabilities\": True},\n",
    "                         auth=HTTPBasicAuth(api_key, api_secret)).json()\n",
    "response"
   ]
  },
  {
   "cell_type": "code",
   "execution_count": 12,
   "metadata": {},
   "outputs": [
    {
     "data": {
      "text/plain": [
       "array([ True,  True,  True])"
      ]
     },
     "execution_count": 12,
     "metadata": {},
     "output_type": "execute_result"
    }
   ],
   "source": [
    "# check they are equal\n",
    "response['predictions']==clf.predict_proba(X_pred)"
   ]
  },
  {
   "cell_type": "code",
   "execution_count": 13,
   "metadata": {},
   "outputs": [
    {
     "data": {
      "text/plain": [
       "{'message': 'Model successfully deleted'}"
      ]
     },
     "execution_count": 13,
     "metadata": {},
     "output_type": "execute_result"
    }
   ],
   "source": [
    "response = requests.delete(byom_url + '/' + model_name,\n",
    "                auth=HTTPBasicAuth(api_key, api_secret)).json()\n",
    "response"
   ]
  },
  {
   "cell_type": "code",
   "execution_count": null,
   "metadata": {},
   "outputs": [],
   "source": []
  }
 ],
 "metadata": {
  "kernelspec": {
   "display_name": "Python 3",
   "language": "python",
   "name": "python3"
  },
  "language_info": {
   "codemirror_mode": {
    "name": "ipython",
    "version": 3
   },
   "file_extension": ".py",
   "mimetype": "text/x-python",
   "name": "python",
   "nbconvert_exporter": "python",
   "pygments_lexer": "ipython3",
   "version": "3.6.9"
  }
 },
 "nbformat": 4,
 "nbformat_minor": 4
}
