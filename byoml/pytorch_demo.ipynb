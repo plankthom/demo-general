{
 "cells": [
  {
   "cell_type": "code",
   "execution_count": 1,
   "metadata": {},
   "outputs": [],
   "source": [
    "import torch\n",
    "import torch.nn as nn\n",
    "\n",
    "import seaborn as sns\n",
    "import numpy as np\n",
    "import pandas as pd\n",
    "import matplotlib.pyplot as plt\n",
    "%matplotlib inline"
   ]
  },
  {
   "cell_type": "markdown",
   "metadata": {},
   "source": [
    "## Create dataset\n",
    "The model will expect 12 datapoints, i.e. one year of data, to predict the amount of passengers for the next month"
   ]
  },
  {
   "cell_type": "code",
   "execution_count": 2,
   "metadata": {},
   "outputs": [
    {
     "data": {
      "text/html": [
       "<div>\n",
       "<style scoped>\n",
       "    .dataframe tbody tr th:only-of-type {\n",
       "        vertical-align: middle;\n",
       "    }\n",
       "\n",
       "    .dataframe tbody tr th {\n",
       "        vertical-align: top;\n",
       "    }\n",
       "\n",
       "    .dataframe thead th {\n",
       "        text-align: right;\n",
       "    }\n",
       "</style>\n",
       "<table border=\"1\" class=\"dataframe\">\n",
       "  <thead>\n",
       "    <tr style=\"text-align: right;\">\n",
       "      <th></th>\n",
       "      <th>year</th>\n",
       "      <th>month</th>\n",
       "      <th>passengers</th>\n",
       "    </tr>\n",
       "  </thead>\n",
       "  <tbody>\n",
       "    <tr>\n",
       "      <th>0</th>\n",
       "      <td>1949</td>\n",
       "      <td>January</td>\n",
       "      <td>112</td>\n",
       "    </tr>\n",
       "    <tr>\n",
       "      <th>1</th>\n",
       "      <td>1949</td>\n",
       "      <td>February</td>\n",
       "      <td>118</td>\n",
       "    </tr>\n",
       "    <tr>\n",
       "      <th>2</th>\n",
       "      <td>1949</td>\n",
       "      <td>March</td>\n",
       "      <td>132</td>\n",
       "    </tr>\n",
       "    <tr>\n",
       "      <th>3</th>\n",
       "      <td>1949</td>\n",
       "      <td>April</td>\n",
       "      <td>129</td>\n",
       "    </tr>\n",
       "    <tr>\n",
       "      <th>4</th>\n",
       "      <td>1949</td>\n",
       "      <td>May</td>\n",
       "      <td>121</td>\n",
       "    </tr>\n",
       "    <tr>\n",
       "      <th>...</th>\n",
       "      <td>...</td>\n",
       "      <td>...</td>\n",
       "      <td>...</td>\n",
       "    </tr>\n",
       "    <tr>\n",
       "      <th>139</th>\n",
       "      <td>1960</td>\n",
       "      <td>August</td>\n",
       "      <td>606</td>\n",
       "    </tr>\n",
       "    <tr>\n",
       "      <th>140</th>\n",
       "      <td>1960</td>\n",
       "      <td>September</td>\n",
       "      <td>508</td>\n",
       "    </tr>\n",
       "    <tr>\n",
       "      <th>141</th>\n",
       "      <td>1960</td>\n",
       "      <td>October</td>\n",
       "      <td>461</td>\n",
       "    </tr>\n",
       "    <tr>\n",
       "      <th>142</th>\n",
       "      <td>1960</td>\n",
       "      <td>November</td>\n",
       "      <td>390</td>\n",
       "    </tr>\n",
       "    <tr>\n",
       "      <th>143</th>\n",
       "      <td>1960</td>\n",
       "      <td>December</td>\n",
       "      <td>432</td>\n",
       "    </tr>\n",
       "  </tbody>\n",
       "</table>\n",
       "<p>144 rows × 3 columns</p>\n",
       "</div>"
      ],
      "text/plain": [
       "     year      month  passengers\n",
       "0    1949    January         112\n",
       "1    1949   February         118\n",
       "2    1949      March         132\n",
       "3    1949      April         129\n",
       "4    1949        May         121\n",
       "..    ...        ...         ...\n",
       "139  1960     August         606\n",
       "140  1960  September         508\n",
       "141  1960    October         461\n",
       "142  1960   November         390\n",
       "143  1960   December         432\n",
       "\n",
       "[144 rows x 3 columns]"
      ]
     },
     "execution_count": 2,
     "metadata": {},
     "output_type": "execute_result"
    }
   ],
   "source": [
    "flight_data = sns.load_dataset(\"flights\")\n",
    "flight_data"
   ]
  },
  {
   "cell_type": "code",
   "execution_count": 3,
   "metadata": {},
   "outputs": [
    {
     "data": {
      "text/plain": [
       "[<matplotlib.lines.Line2D at 0x1247e02b0>]"
      ]
     },
     "execution_count": 3,
     "metadata": {},
     "output_type": "execute_result"
    },
    {
     "data": {
      "image/png": "[encoded data removed]",
      "text/plain": [
       "<Figure size 1080x360 with 1 Axes>"
      ]
     },
     "metadata": {
      "needs_background": "light"
     },
     "output_type": "display_data"
    }
   ],
   "source": [
    "plt.figure(figsize=(15,5))\n",
    "plt.title('Month vs Passenger')\n",
    "plt.ylabel('Total Passengers')\n",
    "plt.xlabel('Months')\n",
    "plt.grid(True)\n",
    "plt.autoscale(axis='x',tight=True)\n",
    "plt.plot(flight_data['passengers'])"
   ]
  },
  {
   "cell_type": "code",
   "execution_count": 4,
   "metadata": {},
   "outputs": [],
   "source": [
    "all_data = flight_data['passengers'].values.astype(float)"
   ]
  },
  {
   "cell_type": "code",
   "execution_count": 5,
   "metadata": {},
   "outputs": [],
   "source": [
    "test_data_size = 24\n",
    "\n",
    "train_data = all_data[:-test_data_size]\n",
    "test_data = all_data[-test_data_size:]"
   ]
  },
  {
   "cell_type": "code",
   "execution_count": 6,
   "metadata": {},
   "outputs": [],
   "source": [
    "def create_inout_sequences(input_data, winow):\n",
    "    X = []\n",
    "    y = []\n",
    "    for i in range(len(input_data)-window):\n",
    "        train_seq = input_data[i:i+window]\n",
    "        train_label = input_data[i+window]\n",
    "        X.append(train_seq)\n",
    "        y.append(train_label)\n",
    "    return torch.FloatTensor(X), torch.FloatTensor(y)"
   ]
  },
  {
   "cell_type": "code",
   "execution_count": 7,
   "metadata": {},
   "outputs": [],
   "source": [
    "window = 12\n",
    "X_train, y_train = create_inout_sequences(train_data, window)\n",
    "X_test, y_test = create_inout_sequences(test_data, window)"
   ]
  },
  {
   "cell_type": "code",
   "execution_count": 8,
   "metadata": {},
   "outputs": [],
   "source": [
    "train_dataset = torch.utils.data.TensorDataset(X_train, y_train)\n",
    "train_loader = torch.utils.data.DataLoader(train_dataset, batch_size=4)"
   ]
  },
  {
   "cell_type": "markdown",
   "metadata": {},
   "source": [
    "## Create and train the model\n",
    "A simple LSTM model is chosen. The model expects a list of inputs to predict which is in line with the best practices to upload your model."
   ]
  },
  {
   "cell_type": "code",
   "execution_count": 9,
   "metadata": {},
   "outputs": [],
   "source": [
    "import torch\n",
    "import torch.nn as nn\n",
    "\n",
    "class PassengerModel(nn.Module):\n",
    "    def __init__(self, input_size=1, hidden_layer_size=100, output_size=1):\n",
    "        super().__init__()\n",
    "        self.hidden_layer_size = hidden_layer_size\n",
    "\n",
    "        self.lstm = nn.LSTM(input_size, hidden_layer_size, batch_first=True)\n",
    "\n",
    "        self.linear = nn.Linear(hidden_layer_size, output_size)\n",
    "\n",
    "    def forward(self, x):\n",
    "        # Set initial hidden and cell states \n",
    "        h0 = torch.zeros(1, x.size(0), self.hidden_layer_size)\n",
    "        c0 = torch.zeros(1, x.size(0), self.hidden_layer_size)\n",
    "        \n",
    "        # Forward propagate LSTM\n",
    "        out, _ = self.lstm(x.view(x.size(0), x.size(1), 1).float(), (h0, c0))\n",
    "        \n",
    "        # Decode the hidden state of the last time step\n",
    "        out = self.linear(out[:, -1, :])\n",
    "        return out.flatten()"
   ]
  },
  {
   "cell_type": "code",
   "execution_count": 10,
   "metadata": {},
   "outputs": [],
   "source": [
    "model = PassengerModel()\n",
    "loss_function = nn.MSELoss()\n",
    "optimizer = torch.optim.Adam(model.parameters(), lr=0.001)"
   ]
  },
  {
   "cell_type": "code",
   "execution_count": 11,
   "metadata": {},
   "outputs": [
    {
     "name": "stdout",
     "output_type": "stream",
     "text": [
      "epoch:   0 loss: 74523.93055556\n",
      "epoch: 100 loss: 13492.22694030\n",
      "epoch: 200 loss: 5287.44920858\n",
      "epoch: 300 loss: 1590.05039243\n",
      "epoch: 400 loss: 824.22931134\n",
      "epoch: 500 loss: 687.21252526\n",
      "epoch: 600 loss: 624.78486591\n",
      "epoch: 700 loss: 540.86834999\n",
      "epoch: 800 loss: 441.66759208\n",
      "epoch: 900 loss: 630.79070508\n",
      "epoch: 1000 loss: 416.98121827\n",
      "epoch: 1100 loss: 329.70298216\n",
      "epoch: 1200 loss: 247.37468451\n",
      "epoch: 1300 loss: 277.18359318\n",
      "epoch: 1400 loss: 298.75807487\n",
      "epoch: 1500 loss: 340.92417032\n",
      "epoch: 1600 loss: 188.48146891\n",
      "epoch: 1700 loss: 140.08797165\n",
      "epoch: 1800 loss: 94.94068513\n",
      "epoch: 1900 loss: 62.34457419\n",
      "epoch: 1999 loss: 137.1528015137\n"
     ]
    }
   ],
   "source": [
    "epochs = 2000\n",
    "\n",
    "for i in range(epochs):\n",
    "    running_loss = 0.0\n",
    "    for j, (x, y) in enumerate(train_loader):\n",
    "        optimizer.zero_grad()\n",
    "        y_pred = model(x)\n",
    "        loss = loss_function(y_pred, y)\n",
    "        loss.backward()\n",
    "        optimizer.step()\n",
    "        running_loss += loss.item()\n",
    "    if i%100 == 0:\n",
    "        print(f'epoch: {i:3} loss: {running_loss/len(train_loader):10.8f}')\n",
    "    running_loss = 0.0\n",
    "\n",
    "print(f'epoch: {i:3} loss: {loss.item():10.10f}')"
   ]
  },
  {
   "cell_type": "markdown",
   "metadata": {},
   "source": [
    "## Check if the model learned something"
   ]
  },
  {
   "cell_type": "code",
   "execution_count": 12,
   "metadata": {},
   "outputs": [],
   "source": [
    "test_dataset = torch.utils.data.TensorDataset(X_test, y_test)\n",
    "test_loader = torch.utils.data.DataLoader(test_dataset, batch_size=4, shuffle=False)"
   ]
  },
  {
   "cell_type": "code",
   "execution_count": 13,
   "metadata": {},
   "outputs": [],
   "source": [
    "preds = []\n",
    "for i, (x, y) in enumerate(test_loader):\n",
    "    with torch.no_grad():\n",
    "        preds.extend(model(x).tolist())\n"
   ]
  },
  {
   "cell_type": "code",
   "execution_count": 14,
   "metadata": {},
   "outputs": [],
   "source": [
    "x = np.arange(132, 144, 1) # x for the predicted points"
   ]
  },
  {
   "cell_type": "code",
   "execution_count": 15,
   "metadata": {},
   "outputs": [
    {
     "data": {
      "image/png": "[encoded data removed]",
      "text/plain": [
       "<Figure size 1080x360 with 1 Axes>"
      ]
     },
     "metadata": {
      "needs_background": "light"
     },
     "output_type": "display_data"
    }
   ],
   "source": [
    "plt.figure(figsize=(15,5))\n",
    "plt.title('Month vs Passenger')\n",
    "plt.ylabel('Total Passengers')\n",
    "plt.grid(True)\n",
    "plt.autoscale(axis='x', tight=True)\n",
    "plt.plot(flight_data['passengers'])\n",
    "plt.plot(x,preds)\n",
    "plt.show()"
   ]
  },
  {
   "cell_type": "markdown",
   "metadata": {},
   "source": [
    "## Save the model using TorchScript\n",
    "For more information, check https://pytorch.org/docs/stable/jit.html#torch.jit.save"
   ]
  },
  {
   "cell_type": "code",
   "execution_count": 16,
   "metadata": {},
   "outputs": [
    {
     "data": {
      "text/plain": [
       "tensor([[360., 342., 406., 396., 420., 472., 548., 559., 463., 407., 362., 405.],\n",
       "        [342., 406., 396., 420., 472., 548., 559., 463., 407., 362., 405., 417.],\n",
       "        [406., 396., 420., 472., 548., 559., 463., 407., 362., 405., 417., 391.],\n",
       "        [396., 420., 472., 548., 559., 463., 407., 362., 405., 417., 391., 419.]])"
      ]
     },
     "execution_count": 16,
     "metadata": {},
     "output_type": "execute_result"
    }
   ],
   "source": [
    "example_input = test_dataset[:4][0]\n",
    "example_input"
   ]
  },
  {
   "cell_type": "code",
   "execution_count": 17,
   "metadata": {},
   "outputs": [],
   "source": [
    "traced_cell = torch.jit.trace(model, example_input)\n",
    "torch.jit.save(traced_cell, \"model.pt\")"
   ]
  },
  {
   "cell_type": "markdown",
   "metadata": {},
   "source": [
    "## Upload the model to the Waylay platform"
   ]
  },
  {
   "cell_type": "code",
   "execution_count": 18,
   "metadata": {},
   "outputs": [],
   "source": [
    "from zipfile import ZipFile\n",
    "from io import BytesIO\n",
    "import requests\n",
    "from requests.auth import HTTPBasicAuth\n",
    "def upload_model(model_name, description, upload_url, api_key, api_secret):\n",
    "    \n",
    "    zipfile_name = 'model.zip'\n",
    "    # Create a zip\n",
    "    with ZipFile(zipfile_name, 'w') as zipfile:\n",
    "        zipfile.write('model.pt')\n",
    "        \n",
    "    with open(zipfile_name, 'rb') as f:\n",
    "        upload_file = BytesIO(f.read())\n",
    "        \n",
    "    # upload to waylay\n",
    "    resp = requests.post(upload_url,\n",
    "                         files={\"file\": (zipfile_name, upload_file)},\n",
    "                         data={\"name\": model_name, \n",
    "                               \"framework\": \"pytorch\", \n",
    "                               \"description\": description,\n",
    "                              },\n",
    "                         auth=HTTPBasicAuth(api_key, api_secret))\n",
    "\n",
    "    return resp.json()"
   ]
  },
  {
   "cell_type": "code",
   "execution_count": 19,
   "metadata": {},
   "outputs": [
    {
     "data": {
      "text/plain": [
       "{'message': 'Model successfully uploaded'}"
      ]
     },
     "execution_count": 19,
     "metadata": {},
     "output_type": "execute_result"
    }
   ],
   "source": [
    "# https://docs.waylay.io/api/rest/#authentication\n",
    "api_key = 'your api key'\n",
    "api_secret = 'your api secret'\n",
    "byoml_url = 'https://byoml.waylay.io/models'\n",
    "model_name = 'passenger-prediction'\n",
    "description = 'A model that predicts passenger count given the passenger counts of the previous year (12 datapoints)'\n",
    "upload_model(model_name, description, byoml_url, api_key, api_secret)"
   ]
  },
  {
   "cell_type": "markdown",
   "metadata": {},
   "source": [
    "## Check if the uploaded and the local model give the same output"
   ]
  },
  {
   "cell_type": "code",
   "execution_count": 20,
   "metadata": {},
   "outputs": [
    {
     "data": {
      "text/plain": [
       "tensor([[420., 472., 548., 559., 463., 407., 362., 405., 417., 391., 419., 461.],\n",
       "        [472., 548., 559., 463., 407., 362., 405., 417., 391., 419., 461., 472.],\n",
       "        [548., 559., 463., 407., 362., 405., 417., 391., 419., 461., 472., 535.],\n",
       "        [559., 463., 407., 362., 405., 417., 391., 419., 461., 472., 535., 622.],\n",
       "        [463., 407., 362., 405., 417., 391., 419., 461., 472., 535., 622., 606.],\n",
       "        [407., 362., 405., 417., 391., 419., 461., 472., 535., 622., 606., 508.],\n",
       "        [362., 405., 417., 391., 419., 461., 472., 535., 622., 606., 508., 461.],\n",
       "        [405., 417., 391., 419., 461., 472., 535., 622., 606., 508., 461., 390.]])"
      ]
     },
     "execution_count": 20,
     "metadata": {},
     "output_type": "execute_result"
    }
   ],
   "source": [
    "instances = test_dataset[4:][0] \n",
    "instances"
   ]
  },
  {
   "cell_type": "code",
   "execution_count": 21,
   "metadata": {},
   "outputs": [
    {
     "data": {
      "text/plain": [
       "tensor([497.1295, 445.0429, 497.4133, 505.7504, 506.7740, 439.2025, 443.7865,\n",
       "        365.2272], grad_fn=<ViewBackward>)"
      ]
     },
     "execution_count": 21,
     "metadata": {},
     "output_type": "execute_result"
    }
   ],
   "source": [
    "model(instances)"
   ]
  },
  {
   "cell_type": "code",
   "execution_count": 22,
   "metadata": {},
   "outputs": [
    {
     "data": {
      "text/plain": [
       "{'predictions': [497.1294250488281,\n",
       "  445.0428771972656,\n",
       "  497.4132995605469,\n",
       "  505.7503967285156,\n",
       "  506.7739562988281,\n",
       "  439.2025451660156,\n",
       "  443.7865295410156,\n",
       "  365.2272033691406]}"
      ]
     },
     "execution_count": 22,
     "metadata": {},
     "output_type": "execute_result"
    }
   ],
   "source": [
    "requests.post(byoml_url + '/' + model_name + '/predict',\n",
    "              json = {\"instances\": instances.tolist()},\n",
    "              auth=HTTPBasicAuth(api_key, api_secret)).json()"
   ]
  },
  {
   "cell_type": "markdown",
   "metadata": {},
   "source": [
    "## More advanced TorchScript\n",
    "In the example above we uploaded the model straight away, but if we want to add some pre- or postprocessing, we can also use TorchScript for this. In the example above, each input was a shift of the previous one with a new value added. It would be better if we can just feed a list of values to the model, so we do not duplicate the information. This is done in the example below:\n",
    "\n",
    "It expects again a list of inputs, where each input is just a list of values (length does not matter). It will split this list into sublists of length 12 (one year of data), and feed it the to model. For the sake of this example we also added the length of inputs the model got to the output. \n",
    "\n",
    "Keep in mind this did not change anything to the model itself, so if we feed the data above to this model (but in a flattened list) we should get the same output."
   ]
  },
  {
   "cell_type": "code",
   "execution_count": 23,
   "metadata": {},
   "outputs": [],
   "source": [
    "class MyScriptModule(torch.jit.ScriptModule):\n",
    "    def __init__(self):\n",
    "        super(MyScriptModule, self).__init__()\n",
    "        self.model = torch.jit.trace(model, example_input)\n",
    "        self.window = window\n",
    "\n",
    "    @torch.jit.script_method\n",
    "    def forward(self, inputs):\n",
    "        predictions: List[Tuple[int, Tensor]] = [] # our output list\n",
    "            \n",
    "        # Again a best practice, accept a list of inputs, where each out will be one object, \n",
    "        # belonging to the input with the same index:\n",
    "        # in this case a number and a list of predictions.\n",
    "        for tensor_list in inputs:\n",
    "            model_inputs = []\n",
    "            \n",
    "            # split into sublists of length 12\n",
    "            for i in range(tensor_list.shape[0] - self.window):\n",
    "                model_inputs.append(tensor_list[i:i+self.window])\n",
    "                \n",
    "            # append the outcome of the prediction together with the length to the predict list\n",
    "            predictions.append((len(model_inputs), self.model(torch.stack(model_inputs))))\n",
    "            \n",
    "        return predictions"
   ]
  },
  {
   "cell_type": "code",
   "execution_count": 24,
   "metadata": {},
   "outputs": [],
   "source": [
    "script_model = MyScriptModule()"
   ]
  },
  {
   "cell_type": "code",
   "execution_count": 25,
   "metadata": {},
   "outputs": [],
   "source": [
    "script_model.save('model.pt')"
   ]
  },
  {
   "cell_type": "code",
   "execution_count": 26,
   "metadata": {},
   "outputs": [
    {
     "data": {
      "text/plain": [
       "{'message': 'Model successfully uploaded'}"
      ]
     },
     "execution_count": 26,
     "metadata": {},
     "output_type": "execute_result"
    }
   ],
   "source": [
    "script_model_name = 'passenger-model-script'\n",
    "script_description = \\\n",
    "'A model that predicts passenger count given the passenger counts of the previous year (12 datapoints). '\n",
    "'Input is just a list of number that will be splits into sublists of 12 numbers.'\n",
    "\n",
    "upload_model(script_model_name, script_description, byoml_url, api_key, api_secret)"
   ]
  },
  {
   "cell_type": "markdown",
   "metadata": {},
   "source": [
    "## Check again if the output is the same\n",
    "Except for the added length the model will output, the predictions should be the same."
   ]
  },
  {
   "cell_type": "code",
   "execution_count": 27,
   "metadata": {},
   "outputs": [
    {
     "data": {
      "text/plain": [
       "tensor([[420., 472., 548., 559., 463., 407., 362., 405., 417., 391., 419., 461.,\n",
       "         472., 535., 622., 606., 508., 461., 390., 432.]], dtype=torch.float64)"
      ]
     },
     "execution_count": 27,
     "metadata": {},
     "output_type": "execute_result"
    }
   ],
   "source": [
    "script_input = torch.tensor([test_data[4:]])\n",
    "script_input"
   ]
  },
  {
   "cell_type": "code",
   "execution_count": 28,
   "metadata": {},
   "outputs": [
    {
     "data": {
      "text/plain": [
       "[(8,\n",
       "  tensor([497.1295, 445.0429, 497.4133, 505.7504, 506.7740, 439.2025, 443.7865,\n",
       "          365.2272], grad_fn=<ViewBackward>))]"
      ]
     },
     "execution_count": 28,
     "metadata": {},
     "output_type": "execute_result"
    }
   ],
   "source": [
    "script_model(script_input)"
   ]
  },
  {
   "cell_type": "code",
   "execution_count": 29,
   "metadata": {},
   "outputs": [
    {
     "data": {
      "text/plain": [
       "{'predictions': [[8,\n",
       "   [497.1294250488281,\n",
       "    445.0428771972656,\n",
       "    497.4132995605469,\n",
       "    505.7503967285156,\n",
       "    506.7739562988281,\n",
       "    439.2025451660156,\n",
       "    443.7865295410156,\n",
       "    365.2272033691406]]]}"
      ]
     },
     "execution_count": 29,
     "metadata": {},
     "output_type": "execute_result"
    }
   ],
   "source": [
    "requests.post(byoml_url + '/' + script_model_name + '/predict',\n",
    "              json = {\"instances\": script_input.tolist()},\n",
    "              auth=HTTPBasicAuth(api_key, api_secret)).json()"
   ]
  },
  {
   "cell_type": "markdown",
   "metadata": {},
   "source": [
    "## Delete the created models"
   ]
  },
  {
   "cell_type": "code",
   "execution_count": 30,
   "metadata": {},
   "outputs": [
    {
     "data": {
      "text/plain": [
       "{'message': 'Model successfully deleted'}"
      ]
     },
     "execution_count": 30,
     "metadata": {},
     "output_type": "execute_result"
    }
   ],
   "source": [
    "requests.delete(byoml_url + '/' + model_name,\n",
    "                auth=HTTPBasicAuth(api_key, api_secret)).json()"
   ]
  },
  {
   "cell_type": "code",
   "execution_count": 31,
   "metadata": {},
   "outputs": [
    {
     "data": {
      "text/plain": [
       "{'message': 'Model successfully deleted'}"
      ]
     },
     "execution_count": 31,
     "metadata": {},
     "output_type": "execute_result"
    }
   ],
   "source": [
    "requests.delete(byoml_url + '/' + script_model_name,\n",
    "                auth=HTTPBasicAuth(api_key, api_secret)).json()"
   ]
  },
  {
   "cell_type": "code",
   "execution_count": null,
   "metadata": {},
   "outputs": [],
   "source": []
  }
 ],
 "metadata": {
  "kernelspec": {
   "display_name": "Python 3",
   "language": "python",
   "name": "python3"
  },
  "language_info": {
   "codemirror_mode": {
    "name": "ipython",
    "version": 3
   },
   "file_extension": ".py",
   "mimetype": "text/x-python",
   "name": "python",
   "nbconvert_exporter": "python",
   "pygments_lexer": "ipython3",
   "version": "3.6.9"
  }
 },
 "nbformat": 4,
 "nbformat_minor": 4
}
