{
 "cells": [
  {
   "cell_type": "code",
   "execution_count": 1,
   "metadata": {},
   "outputs": [],
   "source": [
    "from waylay import WaylayClient, RestResponseError\n",
    "waylay_client = WaylayClient.from_profile('demo')"
   ]
  },
  {
   "cell_type": "markdown",
   "metadata": {},
   "source": [
    "# Waylay Python SDK - Making REST calls\n",
    "\n",
    "The Waylay Python SDK exposes a number of _REST Services_, each a collection of _REST Resources_ that have _action methods_.\n",
    "\n",
    "In most cases these _action methods_ directly correspond to an underlying REST endpoint of the waylay platform.\n",
    "\n",
    "In general, the Python SDK takes care of\n",
    "* authentication\n",
    "* the endpoint url to call, and HTTP method to use\n",
    "* converting JSON responses to Python objects, extracting the relevant data\n",
    "* converting Python request body objects to JSON\n",
    "* handling errors \n",
    "\n",
    "You should check our api documentation sites ([waylay-io](http://docs-io.waylay.io/#/api/), [waylay-saas](https://docs.waylay.io/api)) \n",
    "to find more details about \n",
    "* how requests and response are exactly represented as json\n",
    "* which additional parameters can be provided\n",
    "* what the preconditions and effects are of your call\n",
    "\n",
    "### request arguments\n",
    "These are the general rules for making requests, corresponding to the REST documentation of the underlying REST action:\n",
    "* url **path parameters** are passed as **positional arguments**:\n",
    "  ###### Example\n",
    "\n",
    "  > `waylay_client.analytics.query.get('151CF-temperature')` \n",
    "\n",
    "  will use 151CF-temperature to construct a request to fetch this query definition\n",
    "\n",
    "  > `GET .../config/query/151CF-temperature` \n",
    "\n",
    "* **query parameters** belong in a named **`params` argument**:\n",
    "  ###### Example\n",
    "  > `waylay_client.analytics.query.data('151CF-temperature', params={'from':'2021-03-01T10:00:00+00:00'})`\n",
    "  \n",
    "  will bind the `from` parameter\n",
    "\n",
    "* **request objects** are passed into a **`body` argument**:\n",
    "  ###### Example\n",
    "  > `waylay_client.analytics.query.execute(body={'resource':'RDJ_89839','metric':'revolutions'})`}|\n",
    "\n",
    "### response handling\n",
    "These are the general rules on how the SDK treats results of REST calls:\n",
    "* Only successfull responses (HTTP status `2XX`) return a result, other responses raise an exception.\n",
    "* The SDK extracts the most relevant part of the (json) response body. You can use the `select_path` argument to override this behaviour.\n",
    "* When the REST call produces **timeseries data**, the SDK will return a **pandas DataFrame**.\n",
    "* By providing the  `raw=True` argument, you instruct the SDK to skip all error and response handling, and **just return the HTTP response**.\n",
    "\n",
    "### error handling\n",
    "\n",
    "The SDK uses the following exception hierarchy to notify problems. These exception classes belong to the `waylay.exception` module. They all descend from a `WaylayError` base class.\n",
    "\n",
    "| exception class | raised in case of |\n",
    "| --------------- | ----------- |\n",
    "| `AuthError` | Waylay authentication errors. |\n",
    "| `ConfigError` |  Waylay client configuration errors. |\n",
    "| `RequestError` | Errors in tools and utilities that are not directly related to a REST call. |\n",
    "| `RestRequestError` | Failure to prepare a REST call. |\n",
    "| `RestResponseError` | Wraps the result of a failed REST call. |\n",
    "| `RestResponseParseError` | Failure to parse the result of a succesfull REST call. |\n",
    "\n",
    "Errors of type `RestResponse` have the following attributes that you can use to handle problems:\n",
    "\n",
    "* `response` contains the full HTTP Response object of the REST call, which lets you inspect the status code (`response.status_code`) , response body (`response.body`) and other attributes such as _headers_.\n",
    "* `message` will give you the most relevant error message\n",
    "\n",
    "\n"
   ]
  },
  {
   "cell_type": "markdown",
   "metadata": {},
   "source": [
    "### http response information\n",
    "\n",
    "Most _action methods_ support a `raw=True` parameter. This will prevent exeption handling and parsing of the REST call by the SDK. The unparsed result and http response information is returned in a _Response_ object with attributes\n",
    " * `body` : the result data (json and csv data is parsed to python data structures)\n",
    " * standard http information such as `url`, `method`, `headers`, `status_code`, `client_response`"
   ]
  },
  {
   "cell_type": "code",
   "execution_count": 2,
   "metadata": {},
   "outputs": [
    {
     "data": {
      "text/plain": [
       "Response(url='https://ts-analytics.waylay.io/config/query/151CF-temperature?api_version=0.19', method='GET', body={'messages': [], 'name': '151CF-temperature', 'query': {'data': [{'metric': 'temperature', 'resource': '151CF', 'aggregation': 'median'}, {'metric': 'temperature', 'resource': '151D8', 'aggregation': 'median'}], 'freq': 'P1D', 'window': 'P14D'}, 'meta': None, 'attrs': {'created': '2020-08-29T09:01:34.566657+00:00', 'created_by': 'users/dcf8612b-94fa-4cd4-85fb-e66a1724712a', 'modified': '2021-03-05T14:15:40.405655+00:00', 'modified_by': 'users/dcf8612b-94fa-4cd4-85fb-e66a1724712a'}, '_links': {'self': {'href': 'https://ts-analytics.waylay.io/config/query/151CF-temperature'}}}, headers=Headers({'server': 'nginx/1.17.10', 'date': 'Mon, 08 Mar 2021 08:44:34 GMT', 'content-type': 'application/json', 'content-length': '546', 'server-timing': 'config; dur=12.527704238891602; env=production; method=GET; tenant=fa31ec5f-bf6d-4cdb-930f-2cdd38b53e21; domain=demo.waylay.io', 'access-control-allow-origin': '*', 'vary': 'Cookie', 'set-cookie': 'session=.eJx1VNmSokoQ_Zd-d6JAtGXebGVtFkWlqHox2FqWKsQGZLlx__0W3TcmWox5qyWXc_Jk5j8v9TWPi5ffL3GvJ4ESpnaqH06DxlmpVmmFswg32lLLS8_dsDutSzzeKU7MQSZocKkBdWrRfW0pVo5SsDCHN2oc9Qwr-8FWNM7kT7150MVfLAHAcJEExX5MQtHR7DA0OZxyKc5wbhwd5qTV9tFscQp6xDu5OSSpdbSImUmpsdErH1okKCwS9toS9nodeg4IoNwgGJHwG_CAxhwqAcx20AhgoF1hJGEeUWcdtcHKtLm1aVOsiDWCpNGyKzu7ddAv5sgjFfLyxoerMV8RUpELVTO1SR2xe4s9vfY9a_Ch2PyPgUeeW0XbkhWvXaK5zuGxUAVOItgBm3LEplYfwf0Yjwt5tw-Hqa1-DxR3sKlcBdsyCws319I2DeZ6wbiUIS-Dr3xTPyr2mJcbhieJFHIPCnMZwNOPf30R8Fw1wZDGUKyDKV6qc4ivSaSaSwS76oc9s5P7wJvGllmdWP2fMOlloHRlQMMplj_vk_gkVt_uYbH_6_tjnPKOnnh-v038awzlIfJ0EkC3GXk9-nAEeRYXUpfZLcAzD67Ec_27rllZ4-MPXSBhffGtyVSzUOk4PJ_kKt6qCEZP-rLcQzB3WZ8_a__496DfgFnP-3BRMMwPuFhvAYa3GfNPagEY18_nvnOSkK-n8dmMci3THGDvOc7Pv0eOzt3n3WaKKVLET1bfR35fM0mS6M9MSmxprL9mcpytcR73apTEsEvig5hEnnM15qgzMg0Y2fqrBhHUxh3yPU-9mCMeCVYm9eMCshScfO2S7b62ty5FKUesjC2sY9hb27AzqZR-7H8Z-uxG0XnWgU0MTUTtMI2r_pKthMsOJctZTozLira3ukiWnXaymku2tmoA4ft-a2-5kuBd0dq9vi2CjXX2LkJyZqvqzvOwT2avcz4VdrFWVq1KfX11o7xfXvKPk-1WzbuwvhWGkG9lQyA3dRGcpLw6gHpFXC3cR-qFSqr65m_c7pKvfMd-x3ZWRVFqFTejOmVF7X-it_L1WoCT4qIY0iwUyysCLZ8Ju9WcCQBnmfSRxWqlyK2-vSRN11wlIK7d17UEsp3O-svP7RYopS50B2lmCI605TayJILL5wneamrQulufo8VwFnow4939Ga7j9YeYyK_uEW1Eja7PO4k4n8eZqb5D4sw_yquP1i___gcDZivR.YEXj8g.a4GqyKSsVqtvV2Ygj2zIELg1l7k; HttpOnly; Path=/', 'via': '1.1 google', 'alt-svc': 'clear'}), status_code=200, client_response=<Response [200 OK]>)"
      ]
     },
     "execution_count": 2,
     "metadata": {},
     "output_type": "execute_result"
    }
   ],
   "source": [
    "waylay_client.analytics.query.get('151CF-temperature', raw=True)"
   ]
  },
  {
   "cell_type": "markdown",
   "metadata": {},
   "source": [
    "### access http response information from an error\n",
    "When an request is unsuccessfull, the client will raise an exception. \n",
    "\n",
    "These exceptions (from the `waylay.exceptions` module) are either (instances of subclasses of)\n",
    "* a `RestRequestError` that indicates a problem before sending an api call to waylay (e.g. when input argument conversion fails)\n",
    "* a `RestResponseError` that reports a problem from or after the api call to waylay. This exception gives you access to the underlying response (`response` attribute)\n",
    "  * a `RestResponseParseError` error indicates a problem in processing a succesfull response from the waylay platform. All other `RestResponseError` will come from errors reported by the waylay platform itself (http status code above the `200` range).\n",
    "  \n",
    "Other errors can occur (such as standard python `ValueError`,`TypeError` or `AttributeError`) but these will normally indicate a programming error. Networking failures will normally result in a `ClientConnectionError`"
   ]
  },
  {
   "cell_type": "code",
   "execution_count": 3,
   "metadata": {},
   "outputs": [
    {
     "name": "stdout",
     "output_type": "stream",
     "text": [
      "AnalyticsActionError(404: 'operation=not_found_error'; GET 'https://ts-analytics.waylay.io/config/query/where%20are%20you?api_version=0.19')\n",
      "-----------------\n",
      "Response(url='https://ts-analytics.waylay.io/config/query/where%20are%20you?api_version=0.19', method='GET', body={'messages': []}, headers=Headers({'server': 'nginx/1.17.10', 'date': 'Mon, 08 Mar 2021 08:44:34 GMT', 'content-type': 'application/json', 'content-length': '16', 'server-timing': 'config; dur=8.282184600830078; env=production; method=GET; tenant=fa31ec5f-bf6d-4cdb-930f-2cdd38b53e21; domain=demo.waylay.io', 'access-control-allow-origin': '*', 'vary': 'Cookie', 'via': '1.1 google', 'alt-svc': 'clear'}), status_code=404, client_response=<Response [404 NOT FOUND]>)\n"
     ]
    }
   ],
   "source": [
    "# try to get the representation of a `query` entity that does not exist. \n",
    "# this will result in a `404 NOT FOUND` error \n",
    "try:\n",
    "   waylay_client.analytics.query.get('where are you???', raw=True)\n",
    "except RestResponseError as exc:\n",
    "   print(exc)\n",
    "   print('-----------------')\n",
    "   print(exc.response)"
   ]
  },
  {
   "cell_type": "markdown",
   "metadata": {},
   "source": [
    "## customise or replace dataframe conversions\n",
    "In _action methods_ that return pandas DataFrames, you can use the `response_constructor` parameter to replace the dataframe constructor with your own method. \n",
    "\n",
    "Other _action methods_ that apply conversions to raw json data structures normally support this same optionial parameter.\n",
    "\n",
    "A falsy value will let the method return a python representation of the json data payload."
   ]
  },
  {
   "cell_type": "code",
   "execution_count": 4,
   "metadata": {},
   "outputs": [
    {
     "data": {
      "text/plain": [
       "[{'columns': ['timestamp',\n",
       "   {'resource': '151CF', 'metric': 'temperature', 'aggregation': 'median'},\n",
       "   {'resource': '151D8', 'metric': 'temperature', 'aggregation': 'median'}],\n",
       "  'data': [[1578700800000, 17.0, 16.0],\n",
       "   [1578787200000, 17.0, 16.0],\n",
       "   [1578873600000, 21.0, 20.0],\n",
       "   [1578960000000, 21.0, 20.0],\n",
       "   [1579046400000, 21.0, 20.0],\n",
       "   [1579132800000, 21.0, 20.5],\n",
       "   [1579219200000, 21.0, 20.0],\n",
       "   [1579305600000, 17.0, 16.0],\n",
       "   [1579392000000, 17.0, 16.0],\n",
       "   [1579478400000, 21.0, 20.0],\n",
       "   [1579564800000, 20.0, 20.0],\n",
       "   [1579651200000, 20.5, 20.0],\n",
       "   [1579737600000, 21.0, 20.0],\n",
       "   [1579824000000, 20.5, 20.0],\n",
       "   [1579910400000, 17.0, 16.0],\n",
       "   [1579996800000, 17.0, 16.0],\n",
       "   [1580083200000, 21.0, 21.0],\n",
       "   [1580169600000, 21.0, 20.0],\n",
       "   [1580256000000, 21.0, 20.0],\n",
       "   [1580342400000, 21.0, 20.0]],\n",
       "  'data_axis': 'column',\n",
       "  'attributes': {'role': 'input'},\n",
       "  'window_spec': {'from': 1578700800000,\n",
       "   'until': 1580428800000,\n",
       "   'window': 'P20D',\n",
       "   'freq': 'P1D'}}]"
      ]
     },
     "execution_count": 4,
     "metadata": {},
     "output_type": "execute_result"
    }
   ],
   "source": [
    "waylay_client.analytics.query.data(\n",
    "    '151CF-temperature', \n",
    "    params={'window': 'P20D', 'until':'2020-01-31'},\n",
    "    response_constructor=False\n",
    ")"
   ]
  },
  {
   "cell_type": "code",
   "execution_count": 5,
   "metadata": {},
   "outputs": [
    {
     "data": {
      "text/plain": [
       "{1578700800000: [17.0, 16.0],\n",
       " 1578787200000: [17.0, 16.0],\n",
       " 1578873600000: [21.0, 20.0],\n",
       " 1578960000000: [21.0, 20.0],\n",
       " 1579046400000: [21.0, 20.0],\n",
       " 1579132800000: [21.0, 20.5],\n",
       " 1579219200000: [21.0, 20.0],\n",
       " 1579305600000: [17.0, 16.0],\n",
       " 1579392000000: [17.0, 16.0],\n",
       " 1579478400000: [21.0, 20.0],\n",
       " 1579564800000: [20.0, 20.0],\n",
       " 1579651200000: [20.5, 20.0],\n",
       " 1579737600000: [21.0, 20.0],\n",
       " 1579824000000: [20.5, 20.0],\n",
       " 1579910400000: [17.0, 16.0],\n",
       " 1579996800000: [17.0, 16.0],\n",
       " 1580083200000: [21.0, 21.0],\n",
       " 1580169600000: [21.0, 20.0],\n",
       " 1580256000000: [21.0, 20.0],\n",
       " 1580342400000: [21.0, 20.0]}"
      ]
     },
     "execution_count": 5,
     "metadata": {},
     "output_type": "execute_result"
    }
   ],
   "source": [
    "# return a map with timestamps as keys, the observation values as value. \n",
    "waylay_client.analytics.query.data(\n",
    "    '151CF-temperature', \n",
    "    params={'window': 'P20D', 'until':'2020-01-31'},\n",
    "    response_constructor=lambda d: { row[0] : row[1:] for row in d[0]['data'] }\n",
    ")"
   ]
  },
  {
   "cell_type": "code",
   "execution_count": 6,
   "metadata": {},
   "outputs": [
    {
     "data": {
      "text/plain": [
       "array([[1.5787008e+12, 1.5787872e+12, 1.5788736e+12, 1.5789600e+12,\n",
       "        1.5790464e+12, 1.5791328e+12, 1.5792192e+12, 1.5793056e+12,\n",
       "        1.5793920e+12, 1.5794784e+12, 1.5795648e+12, 1.5796512e+12,\n",
       "        1.5797376e+12, 1.5798240e+12, 1.5799104e+12, 1.5799968e+12,\n",
       "        1.5800832e+12, 1.5801696e+12, 1.5802560e+12, 1.5803424e+12],\n",
       "       [1.7000000e+01, 1.7000000e+01, 2.1000000e+01, 2.1000000e+01,\n",
       "        2.1000000e+01, 2.1000000e+01, 2.1000000e+01, 1.7000000e+01,\n",
       "        1.7000000e+01, 2.1000000e+01, 2.0000000e+01, 2.0500000e+01,\n",
       "        2.1000000e+01, 2.0500000e+01, 1.7000000e+01, 1.7000000e+01,\n",
       "        2.1000000e+01, 2.1000000e+01, 2.1000000e+01, 2.1000000e+01],\n",
       "       [1.6000000e+01, 1.6000000e+01, 2.0000000e+01, 2.0000000e+01,\n",
       "        2.0000000e+01, 2.0500000e+01, 2.0000000e+01, 1.6000000e+01,\n",
       "        1.6000000e+01, 2.0000000e+01, 2.0000000e+01, 2.0000000e+01,\n",
       "        2.0000000e+01, 2.0000000e+01, 1.6000000e+01, 1.6000000e+01,\n",
       "        2.1000000e+01, 2.0000000e+01, 2.0000000e+01, 2.0000000e+01]])"
      ]
     },
     "execution_count": 6,
     "metadata": {},
     "output_type": "execute_result"
    }
   ],
   "source": [
    "import numpy as np\n",
    "# return timeseries data as a numpy array, transposed as an array per series \n",
    "waylay_client.analytics.query.data(\n",
    "    '151CF-temperature', \n",
    "    params={'window': 'P20D', 'until':'2020-01-31'},\n",
    "    response_constructor=lambda d: np.transpose(d[0]['data'])\n",
    ")"
   ]
  },
  {
   "cell_type": "code",
   "execution_count": null,
   "metadata": {},
   "outputs": [],
   "source": []
  }
 ],
 "metadata": {
  "kernelspec": {
   "display_name": "Python 3",
   "language": "python",
   "name": "python3"
  },
  "language_info": {
   "codemirror_mode": {
    "name": "ipython",
    "version": 3
   },
   "file_extension": ".py",
   "mimetype": "text/x-python",
   "name": "python",
   "nbconvert_exporter": "python",
   "pygments_lexer": "ipython3",
   "version": "3.8.5"
  }
 },
 "nbformat": 4,
 "nbformat_minor": 4
}
